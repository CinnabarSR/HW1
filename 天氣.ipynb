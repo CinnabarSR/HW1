{
  "nbformat": 4,
  "nbformat_minor": 0,
  "metadata": {
    "colab": {
      "provenance": [],
      "include_colab_link": true
    },
    "kernelspec": {
      "name": "python3",
      "display_name": "Python 3"
    },
    "language_info": {
      "name": "python"
    }
  },
  "cells": [
    {
      "cell_type": "markdown",
      "metadata": {
        "id": "view-in-github",
        "colab_type": "text"
      },
      "source": [
        "<a href=\"https://colab.research.google.com/github/CinnabarSR/HW1/blob/main/%E5%A4%A9%E6%B0%A3.ipynb\" target=\"_parent\"><img src=\"https://colab.research.google.com/assets/colab-badge.svg\" alt=\"Open In Colab\"/></a>"
      ]
    },
    {
      "cell_type": "code",
      "execution_count": 17,
      "metadata": {
        "colab": {
          "base_uri": "https://localhost:8080/"
        },
        "id": "a_3LQPP4bS7h",
        "outputId": "eeae87ad-ab0d-4f83-fb4d-01fbd84cdbde"
      },
      "outputs": [
        {
          "output_type": "stream",
          "name": "stdout",
          "text": [
            "[[7.38888889e+00 8.90000000e-01 1.41197000e+01 2.51000000e+02\n",
            "  1.58263000e+01 1.01513000e+03]\n",
            " [7.22777778e+00 8.60000000e-01 1.42646000e+01 2.59000000e+02\n",
            "  1.58263000e+01 1.01563000e+03]\n",
            " [9.37777778e+00 8.90000000e-01 3.92840000e+00 2.04000000e+02\n",
            "  1.49569000e+01 1.01594000e+03]\n",
            " ...\n",
            " [2.20388889e+01 5.60000000e-01 8.98380000e+00 3.00000000e+01\n",
            "  1.61000000e+01 1.01566000e+03]\n",
            " [2.15222222e+01 6.00000000e-01 1.05294000e+01 2.00000000e+01\n",
            "  1.61000000e+01 1.01595000e+03]\n",
            " [2.04388889e+01 6.10000000e-01 5.87650000e+00 3.90000000e+01\n",
            "  1.55204000e+01 1.01616000e+03]]\n",
            "[ 9.47222222  9.35555556  9.37777778 ... 22.03888889 21.52222222\n",
            " 20.43888889]\n",
            "(72339, 6)\n",
            "(24114, 6)\n",
            "(72339, 6)\n",
            "results 0.9901242224838677\n",
            "MSE train:0.010,test:0.010\n"
          ]
        }
      ],
      "source": [
        "import re\n",
        "import pandas as pd\n",
        "import numpy as np\n",
        "import matplotlib.pyplot as plt\n",
        "import sklearn\n",
        "\n",
        "from sklearn.metrics import mean_squared_error\n",
        "from sklearn.linear_model import LinearRegression\n",
        "from sklearn.linear_model import LogisticRegression\n",
        "from sklearn.datasets import load_iris\n",
        "from sklearn.model_selection import train_test_split\n",
        "from sklearn.preprocessing import StandardScaler\n",
        "\n",
        "data_ori = \"https://raw.githubusercontent.com/hwweiCOAIPP/test/main/SimpleWeather.csv\"\n",
        "raw_df = pd.read_csv(data_ori)\n",
        "\n",
        "data_noword = raw_df.values[0::]\n",
        "\n",
        "data_noword = np.delete(data_noword, 0, axis=1)\n",
        "data_train = data_noword[:,1:]\n",
        "target = data_noword[:,0]\n",
        "\n",
        "print(data_train)\n",
        "print(target)\n",
        "\n",
        "train_data, test_data, train_target, test_target=train_test_split(data_train, target, test_size=0.25, random_state=13)\n",
        "print(train_data. shape)\n",
        "print(test_data. shape)\n",
        "std_traindata=StandardScaler().fit_transform(train_data)\n",
        "std_testdata=StandardScaler().fit_transform(test_data)\n",
        "std_traintarget=StandardScaler().fit_transform(train_target. reshape(-1, 1))\n",
        "std_testtarget=StandardScaler().fit_transform(test_target. reshape(-1, 1))\n",
        "print(std_traindata. shape)\n",
        "LR=LinearRegression()\n",
        "LR.fit(std_traindata, std_traintarget)\n",
        "print('results', LR.score(std_traindata,std_traintarget))\n",
        "train_pred=LR.predict(std_traindata)\n",
        "test_pred=LR.predict(std_testdata)\n",
        "\n",
        "print('MSE train:%.3f,test:%.3f' %(mean_squared_error(std_traintarget, train_pred),mean_squared_error(std_testtarget, test_pred)))\n",
        "\n"
      ]
    }
  ]
}